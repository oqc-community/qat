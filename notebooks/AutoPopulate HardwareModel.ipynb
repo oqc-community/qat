{
 "cells": [
  {
   "cell_type": "code",
   "execution_count": 1,
   "metadata": {},
   "outputs": [],
   "source": [
    "%load_ext autoreload\n",
    "%autoreload 2"
   ]
  },
  {
   "cell_type": "code",
   "execution_count": 1,
   "metadata": {},
   "outputs": [],
   "source": [
    "from __future__ import annotations\n",
    "\n",
    "from pydantic import Field\n",
    "\n",
    "import numpy as np\n",
    "from qat.model.component import Component, ComponentId, make_refdict\n",
    "from qat.model.refs import Ref, RefDict, RefList\n",
    "from qat.model.autopopulate import AutoPopulate\n",
    "\n",
    "from typing import Optional"
   ]
  },
  {
   "cell_type": "code",
   "execution_count": 2,
   "metadata": {},
   "outputs": [],
   "source": [
    "class QuantumComponent(Component):\n",
    "    pass\n",
    "\n",
    "\n",
    "class PhysicalBaseband(QuantumComponent):\n",
    "    pass\n",
    "\n",
    "class PhysicalChannel(QuantumComponent):\n",
    "    baseband: Ref[PhysicalBaseband]\n",
    "\n",
    "\n",
    "class PulseChannel(QuantumComponent):\n",
    "    physical_channel: Ref[PhysicalChannel]\n",
    "    auxiliary_qubits: RefList[Qubit] = []\n",
    "\n",
    "\n",
    "class QuantumDevice(QuantumComponent):\n",
    "    pulse_channels: RefDict[PulseChannel]\n",
    "    physical_channel: Ref[PhysicalChannel]\n",
    "    measure_device: Ref[Resonator]\n",
    "\n",
    "\n",
    "class Resonator(QuantumDevice):\n",
    "    measure_device: None = None\n",
    "\n",
    "\n",
    "class Qubit(QuantumDevice):\n",
    "    measure_device: Ref[Resonator]\n"
   ]
  },
  {
   "cell_type": "code",
   "execution_count": 3,
   "metadata": {},
   "outputs": [],
   "source": [
    "class QuantumHardwareModel(AutoPopulate):\n",
    "    \"\"\"\n",
    "    Base class for calibrating our QPU hardware.\n",
    "\n",
    "    Attributes:\n",
    "        qubits:\n",
    "    \"\"\"\n",
    "\n",
    "    physical_basebands: dict[ComponentId,PhysicalBaseband] = Field(allow_mutation=False,\n",
    "                                                        default=dict())\n",
    "\n",
    "    physical_channels: dict[ComponentId, PhysicalChannel] = Field(allow_mutation=False, \n",
    "                                                        default=dict())\n",
    "\n",
    "    pulse_channels: dict[ComponentId, PulseChannel] = Field(allow_mutation=False, default=dict())\n",
    "    qubits: dict[ComponentId, Qubit] = Field(allow_mutation=False, default=dict())\n",
    "    resonators: dict[ComponentId,Resonator] = Field(allow_mutation=False, default=dict())\n"
   ]
  },
  {
   "cell_type": "code",
   "execution_count": 4,
   "metadata": {},
   "outputs": [],
   "source": [
    "def make_Hardware(count=10, connections=3, seed=42):\n",
    "    rng = np.random.default_rng(seed)\n",
    "    pick = lambda L, size=3: make_refdict(*rng.choice(L, size=size))\n",
    "    physical_basebands = [PhysicalBaseband() for _ in range(count)]\n",
    "    physical_channels = [PhysicalChannel(baseband=list(pick(physical_basebands, 1).values())[0]) for _ in range(count)]\n",
    "    pulse_channels = [PulseChannel(physical_channel=list(pick(physical_channels, 1).values())[0], auxiliary_qubits=[]) for _ in range(count)]\n",
    "    qubits = [] # finish this\n",
    "    resonators = [] # finish this\n",
    "\n",
    "    #for pulse_channel in pulse_channels:\n",
    "    #    pulse_channel.auxiliary_qubits = list(pick(qubits, 3).values())\n",
    "\n",
    "    return QuantumHardwareModel(physical_basebands=make_refdict(*physical_basebands),\n",
    "                                physical_channels=make_refdict(*physical_channels),\n",
    "                                pulse_channels=make_refdict(*pulse_channels),\n",
    "                                qubits=make_refdict(*qubits),\n",
    "                                resonators=make_refdict(*resonators))"
   ]
  },
  {
   "cell_type": "code",
   "execution_count": null,
   "metadata": {},
   "outputs": [],
   "source": [
    "hw1 = make_Hardware()\n",
    "hw2 = QuantumHardwareModel(**hw1.model_dump())\n",
    "\n",
    "hw1._deepequal(hw1)"
   ]
  }
 ],
 "metadata": {
  "kernelspec": {
   "display_name": ".venv",
   "language": "python",
   "name": "python3"
  },
  "language_info": {
   "codemirror_mode": {
    "name": "ipython",
    "version": 3
   },
   "file_extension": ".py",
   "mimetype": "text/x-python",
   "name": "python",
   "nbconvert_exporter": "python",
   "pygments_lexer": "ipython3",
   "version": "3.10.14"
  }
 },
 "nbformat": 4,
 "nbformat_minor": 2
}
