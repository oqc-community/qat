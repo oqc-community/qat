{
 "cells": [
  {
   "cell_type": "code",
   "execution_count": 1,
   "metadata": {},
   "outputs": [],
   "source": [
    "%load_ext autoreload\n",
    "%autoreload 2"
   ]
  },
  {
   "cell_type": "code",
   "execution_count": 2,
   "metadata": {},
   "outputs": [],
   "source": [
    "import numpy as np\n",
    "from qat.utils.pydref import HasId, Ref, RefDict, RefList"
   ]
  },
  {
   "cell_type": "code",
   "execution_count": 3,
   "metadata": {},
   "outputs": [],
   "source": [
    "from qat.utils.pydantic import WarnOnExtraFieldsModel\n",
    "\n",
    "from pydantic import (\n",
    "    PlainSerializer,\n",
    ")\n",
    "\n",
    "from typing import Dict, List, Optional\n",
    "import typing\n",
    "from typing import Annotated\n",
    "\n",
    "componentid = str\n"
   ]
  },
  {
   "cell_type": "code",
   "execution_count": 12,
   "metadata": {},
   "outputs": [],
   "source": [
    "class At(HasId):\n",
    "    x: int\n",
    "    \n",
    "class Bt(HasId):\n",
    "    x: int\n",
    "    s: str\n",
    "    As: RefDict[At]\n",
    "\n",
    "class Ct(HasId):\n",
    "    x: int\n",
    "    As: RefDict[At]\n",
    "    Bs: RefList[Bt]\n",
    "    someB: Ref[Bt]\n",
    "\n",
    "class Dt(HasId):\n",
    "    x: int\n",
    "    Cs: RefDict[Ct]"
   ]
  },
  {
   "cell_type": "code",
   "execution_count": 13,
   "metadata": {},
   "outputs": [],
   "source": [
    "class Outer(HasId):\n",
    "    A: list[At]\n",
    "    B: list[Bt]\n",
    "    C: list[Ct]\n",
    "    D: list[Dt]"
   ]
  },
  {
   "cell_type": "markdown",
   "metadata": {},
   "source": [
    "This model is a DAG which means it can be serialised in layers"
   ]
  },
  {
   "cell_type": "code",
   "execution_count": 14,
   "metadata": {},
   "outputs": [],
   "source": [
    "pick = lambda L, size=3: {l.id: l for l in np.random.choice(L, size=size)}\n",
    "\n",
    "A = [At(x=i, id='A' + str(i)) for i in range(10)]\n",
    "B = [Bt(x=i, id='B' + str(i), As=pick(A,3), s='blah' + str(i)) for i in range(10)]\n",
    "C = [Ct(x=i, id='C' + str(i), As=pick(A,3), Bs=list(pick(B,3).values()), someB=list(pick(B,1).values())[0]) for i in range(10)]\n",
    "D = [Dt(x=i, id='D' + str(i), Cs=pick(C,3)) for i in range(5)]"
   ]
  },
  {
   "cell_type": "code",
   "execution_count": 15,
   "metadata": {},
   "outputs": [],
   "source": [
    "O1 = Outer(A=A, B=B,C=C,D=D, id='outer')\n",
    "blob = O1.model_dump()"
   ]
  },
  {
   "cell_type": "code",
   "execution_count": 16,
   "metadata": {},
   "outputs": [],
   "source": [
    "O2 = Outer(**blob)\n",
    "assert(O2 == O1)"
   ]
  },
  {
   "cell_type": "code",
   "execution_count": null,
   "metadata": {},
   "outputs": [],
   "source": []
  }
 ],
 "metadata": {
  "kernelspec": {
   "display_name": ".venv",
   "language": "python",
   "name": "python3"
  },
  "language_info": {
   "codemirror_mode": {
    "name": "ipython",
    "version": 3
   },
   "file_extension": ".py",
   "mimetype": "text/x-python",
   "name": "python",
   "nbconvert_exporter": "python",
   "pygments_lexer": "ipython3",
   "version": "3.10.14"
  }
 },
 "nbformat": 4,
 "nbformat_minor": 2
}
