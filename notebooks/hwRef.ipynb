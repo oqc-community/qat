{
 "cells": [
  {
   "cell_type": "code",
   "execution_count": 1,
   "metadata": {},
   "outputs": [],
   "source": [
    "%load_ext autoreload\n",
    "%autoreload 2"
   ]
  },
  {
   "cell_type": "code",
   "execution_count": 4,
   "metadata": {},
   "outputs": [],
   "source": [
    "from __future__ import annotations\n",
    "\n",
    "from pydantic import Field\n",
    "\n",
    "from typing import Optional\n",
    "import numpy as np\n",
    "from qat.utils.pydref import HasId, Ref, RefDict, RefList"
   ]
  },
  {
   "cell_type": "code",
   "execution_count": 11,
   "metadata": {},
   "outputs": [],
   "source": [
    "class QuantumComponent(HasId):\n",
    "    pass\n",
    "\n",
    "\n",
    "class PhysicalBaseband(QuantumComponent):\n",
    "    pass\n",
    "\n",
    "class PhysicalChannel(QuantumComponent):\n",
    "    baseband: PhysicalBaseband\n",
    "\n",
    "\n",
    "class PulseChannel(QuantumComponent):\n",
    "    physical_channel: Ref[PhysicalChannel]\n",
    "    #auxiliary_qubits: Optional[RefList[Qubit]] = []\n",
    "\n",
    "\n",
    "class QuantumDevice(QuantumComponent):\n",
    "    pulse_channels: RefDict[PulseChannel]\n",
    "    physical_channel: Ref[PhysicalChannel]\n",
    "    measure_device: Optional[Ref[Resonator]] = None\n",
    "\n",
    "\n",
    "class Resonator(QuantumDevice):\n",
    "    measure_device: None = None\n",
    "\n",
    "\n",
    "class Qubit(QuantumDevice):\n",
    "    measure_device: Ref[Resonator]\n",
    "\n",
    "class LogicalQubitCoupling(HasId):\n",
    "    source : Qubit\n",
    "    target : Qubit\n",
    "    quality : float\n",
    "\n",
    "class PhysicalQubitCoupling(LogicalQubitCoupling):\n",
    "    source_pulsechannel : Ref[PulseChannel]\n",
    "    target_pulsechannel : Ref[PulseChannel]\n",
    "\n",
    "class LogicalQubitTopology(QuantumDevice):\n",
    "    couplings: list[LogicalQubitCoupling]\n",
    "    \n",
    "\n",
    "class PhysicalQubitTopology(QuantumDevice):\n",
    "    couplings: list[PhysicalQubitCoupling]\n"
   ]
  },
  {
   "cell_type": "code",
   "execution_count": 12,
   "metadata": {},
   "outputs": [],
   "source": [
    "class QuantumHardwareModel(HasId):\n",
    "    \"\"\"\n",
    "    Base class for calibrating our QPU hardware.\n",
    "\n",
    "    Attributes:\n",
    "        qubits:\n",
    "    \"\"\"\n",
    "\n",
    "    physical_basebands: RefDict[PhysicalBaseband] = Field(allow_mutation=False,\n",
    "                                                        default=dict())\n",
    "\n",
    "    physical_channels: RefDict[PhysicalChannel] = Field(allow_mutation=False, \n",
    "                                                        default=dict())\n",
    "\n",
    "    pulse_channels: RefDict[PulseChannel] = Field(allow_mutation=False, default=dict())\n",
    "    qubits: RefDict[Qubit] = Field(allow_mutation=False, default=dict())\n",
    "    resonators: RefDict[Resonator] = Field(allow_mutation=False, default=dict())\n"
   ]
  },
  {
   "cell_type": "markdown",
   "metadata": {},
   "source": [
    "This model is a DAG which means it can be serialised in layers"
   ]
  },
  {
   "cell_type": "code",
   "execution_count": 5,
   "metadata": {},
   "outputs": [],
   "source": [
    "pick = lambda L, size=3: {l.id: l for l in np.random.choice(L, size=size)}\n",
    "\n",
    "A = [At(x=i, id='A' + str(i)) for i in range(10)]\n",
    "B = [Bt(x=i, id='B' + str(i), As=pick(A,3)) for i in range(10)]\n",
    "C = [Ct(x=i, id='C' + str(i), As=pick(A,3), Bs=list(pick(B,3).values()), someB=list(pick(B,1).values())[0]) for i in range(10)]\n",
    "D = [Dt(x=i, id='D' + str(i), Cs=pick(C,3)) for i in range(5)]"
   ]
  },
  {
   "cell_type": "code",
   "execution_count": 6,
   "metadata": {},
   "outputs": [],
   "source": [
    "O1 = Outer(A=A, B=B,C=C,D=D, id='outer')\n",
    "blob = O1.model_dump()"
   ]
  },
  {
   "cell_type": "code",
   "execution_count": 7,
   "metadata": {},
   "outputs": [],
   "source": [
    "O2 = Outer(**blob)\n",
    "assert(O2 == O1)"
   ]
  },
  {
   "cell_type": "code",
   "execution_count": null,
   "metadata": {},
   "outputs": [],
   "source": []
  }
 ],
 "metadata": {
  "kernelspec": {
   "display_name": ".venv",
   "language": "python",
   "name": "python3"
  },
  "language_info": {
   "codemirror_mode": {
    "name": "ipython",
    "version": 3
   },
   "file_extension": ".py",
   "mimetype": "text/x-python",
   "name": "python",
   "nbconvert_exporter": "python",
   "pygments_lexer": "ipython3",
   "version": "3.10.14"
  }
 },
 "nbformat": 4,
 "nbformat_minor": 2
}
