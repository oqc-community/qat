{
 "cells": [
  {
   "cell_type": "code",
   "execution_count": 1,
   "metadata": {},
   "outputs": [],
   "source": [
    "from qat.ir.result_base import ResultManager\n",
    "from qat.model.model import build_hardware_model\n",
    "from qat.runtime.execution import EchoEngine\n",
    "\n",
    "from qat.purr.compiler.builders import QuantumInstructionBuilder\n",
    "from qat.purr.compiler.runtime import NewQuantumRuntime"
   ]
  },
  {
   "cell_type": "code",
   "execution_count": 2,
   "metadata": {},
   "outputs": [
    {
     "data": {
      "text/plain": [
       "set()"
      ]
     },
     "execution_count": 2,
     "metadata": {},
     "output_type": "execute_result"
    }
   ],
   "source": [
    "hw = build_hardware_model(qubit_count=4)\n",
    "\n",
    "engine = EchoEngine(model=hw)\n",
    "\n",
    "builder = QuantumInstructionBuilder(hardware_model=hw) # Just an empty builder for now.\n",
    "\n",
    "runtime = NewQuantumRuntime(execution_engine=engine)\n",
    "\n",
    "res_mgr = ResultManager()\n",
    "runtime.run_pass_pipeline(builder, res_mgr, hw, engine)\n",
    "\n",
    "res_mgr.results # Will be empty due to empty builder."
   ]
  },
  {
   "cell_type": "code",
   "execution_count": 3,
   "metadata": {},
   "outputs": [],
   "source": []
  },
  {
   "cell_type": "code",
   "execution_count": 4,
   "metadata": {},
   "outputs": [],
   "source": [
    "\n"
   ]
  },
  {
   "cell_type": "code",
   "execution_count": 5,
   "metadata": {},
   "outputs": [],
   "source": []
  },
  {
   "cell_type": "code",
   "execution_count": null,
   "metadata": {},
   "outputs": [],
   "source": [
    "\n"
   ]
  },
  {
   "cell_type": "code",
   "execution_count": null,
   "metadata": {},
   "outputs": [],
   "source": []
  },
  {
   "cell_type": "code",
   "execution_count": null,
   "metadata": {},
   "outputs": [],
   "source": []
  }
 ],
 "metadata": {
  "kernelspec": {
   "display_name": ".venv",
   "language": "python",
   "name": "python3"
  },
  "language_info": {
   "codemirror_mode": {
    "name": "ipython",
    "version": 3
   },
   "file_extension": ".py",
   "mimetype": "text/x-python",
   "name": "python",
   "nbconvert_exporter": "python",
   "pygments_lexer": "ipython3",
   "version": "3.12.6"
  }
 },
 "nbformat": 4,
 "nbformat_minor": 2
}
