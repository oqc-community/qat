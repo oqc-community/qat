{
 "cells": [
  {
   "cell_type": "code",
   "execution_count": 78,
   "metadata": {},
   "outputs": [
    {
     "name": "stdout",
     "output_type": "stream",
     "text": [
      "The autoreload extension is already loaded. To reload it, use:\n",
      "  %reload_ext autoreload\n"
     ]
    }
   ],
   "source": [
    "%load_ext autoreload\n",
    "%autoreload 2"
   ]
  },
  {
   "cell_type": "code",
   "execution_count": 101,
   "metadata": {},
   "outputs": [],
   "source": [
    "prog = '''\n",
    "OPENQASM 3;\n",
    "bit[2] c;\n",
    "qubit[2] q;\n",
    "h q;\n",
    "measure q -> c;\n",
    "'''"
   ]
  },
  {
   "cell_type": "code",
   "execution_count": 104,
   "metadata": {},
   "outputs": [],
   "source": [
    "from qat import QAT"
   ]
  },
  {
   "cell_type": "code",
   "execution_count": 105,
   "metadata": {},
   "outputs": [],
   "source": [
    "qat = QAT()\n",
    "qat.set_default_pipeline('echo')"
   ]
  },
  {
   "cell_type": "code",
   "execution_count": 108,
   "metadata": {},
   "outputs": [
    {
     "name": "stdout",
     "output_type": "stream",
     "text": [
      "[INFO] 2024-11-15 14:14:53,588 - purr - (runtime._common_execute:219) - Optimized instruction count: 21\n",
      "[INFO] 2024-11-15 14:14:53,598 - purr - (execution._common_execute:309) - QPU returned results in 0.00916 seconds.\n",
      "[INFO] 2024-11-15 14:14:53,599 - purr - (frontends.execute:201) - Execution completed, took 0.010972 seconds.\n"
     ]
    },
    {
     "data": {
      "text/plain": [
       "{'c': [0, 0]}"
      ]
     },
     "execution_count": 108,
     "metadata": {},
     "output_type": "execute_result"
    }
   ],
   "source": [
    "inst, metrics = qat.compile(prog)\n",
    "res, metrics = qat.execute(inst)\n",
    "res"
   ]
  },
  {
   "cell_type": "code",
   "execution_count": 109,
   "metadata": {},
   "outputs": [
    {
     "name": "stdout",
     "output_type": "stream",
     "text": [
      "[INFO] 2024-11-15 14:14:58,358 - purr - (realtime_chip_simulator.optimize:695) - Instructions optimized in 8.7e-05 seconds.\n",
      "[INFO] 2024-11-15 14:14:58,359 - purr - (runtime._common_execute:219) - Optimized instruction count: 21\n",
      "[INFO] 2024-11-15 14:14:58,662 - purr - (realtime_chip_simulator._execute_on_hardware:1016) - Sim complete.\n",
      "[INFO] 2024-11-15 14:14:58,678 - purr - (execution._common_execute:309) - QPU returned results in 0.318733 seconds.\n",
      "[INFO] 2024-11-15 14:14:58,679 - purr - (frontends.execute:201) - Execution completed, took 0.320954 seconds.\n"
     ]
    },
    {
     "data": {
      "text/plain": [
       "{'c': [1, 0]}"
      ]
     },
     "execution_count": 109,
     "metadata": {},
     "output_type": "execute_result"
    }
   ],
   "source": [
    "qat.set_default_pipeline('rtcs')\n",
    "inst, metrics = qat.compile(prog)\n",
    "res, metrics = qat.execute(inst)\n",
    "res"
   ]
  },
  {
   "cell_type": "code",
   "execution_count": null,
   "metadata": {},
   "outputs": [],
   "source": []
  },
  {
   "cell_type": "code",
   "execution_count": null,
   "metadata": {},
   "outputs": [
    {
     "name": "stdout",
     "output_type": "stream",
     "text": [
      "[INFO] 2024-11-15 14:14:27,719 - purr - (runtime._common_execute:219) - Optimized instruction count: 21\n",
      "[INFO] 2024-11-15 14:14:27,729 - purr - (execution._common_execute:309) - QPU returned results in 0.009187 seconds.\n",
      "[INFO] 2024-11-15 14:14:27,730 - purr - (frontends.execute:201) - Execution completed, took 0.011539 seconds.\n"
     ]
    },
    {
     "data": {
      "text/plain": [
       "{'c': [0, 0]}"
      ]
     },
     "execution_count": 103,
     "metadata": {},
     "output_type": "execute_result"
    }
   ],
   "source": [
    "\n",
    "res"
   ]
  },
  {
   "cell_type": "code",
   "execution_count": null,
   "metadata": {},
   "outputs": [],
   "source": []
  }
 ],
 "metadata": {
  "kernelspec": {
   "display_name": "qat-compiler-2RwE7-Pm-py3.10",
   "language": "python",
   "name": "python3"
  },
  "language_info": {
   "codemirror_mode": {
    "name": "ipython",
    "version": 3
   },
   "file_extension": ".py",
   "mimetype": "text/x-python",
   "name": "python",
   "nbconvert_exporter": "python",
   "pygments_lexer": "ipython3",
   "version": "3.10.12"
  }
 },
 "nbformat": 4,
 "nbformat_minor": 2
}
