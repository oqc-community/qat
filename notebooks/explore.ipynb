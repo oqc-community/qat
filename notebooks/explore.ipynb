{
 "cells": [
  {
   "cell_type": "code",
   "execution_count": 162,
   "metadata": {},
   "outputs": [
    {
     "name": "stdout",
     "output_type": "stream",
     "text": [
      "The autoreload extension is already loaded. To reload it, use:\n",
      "  %reload_ext autoreload\n"
     ]
    }
   ],
   "source": [
    "%load_ext autoreload\n",
    "%autoreload 2"
   ]
  },
  {
   "cell_type": "code",
   "execution_count": 163,
   "metadata": {},
   "outputs": [],
   "source": [
    "prog = '''\n",
    "OPENQASM 3;\n",
    "bit[2] c;\n",
    "qubit[2] q;\n",
    "h q;\n",
    "measure q -> c;\n",
    "'''"
   ]
  },
  {
   "cell_type": "code",
   "execution_count": 178,
   "metadata": {},
   "outputs": [],
   "source": [
    "from qat import QAT"
   ]
  },
  {
   "cell_type": "code",
   "execution_count": 179,
   "metadata": {},
   "outputs": [],
   "source": [
    "from pydantic import BaseModel, ImportString, BeforeValidator\n",
    "from typing import Annotated"
   ]
  },
  {
   "cell_type": "code",
   "execution_count": 180,
   "metadata": {},
   "outputs": [],
   "source": [
    "qat = QAT()\n",
    "qat.set_default_pipeline('echo')"
   ]
  },
  {
   "cell_type": "code",
   "execution_count": 181,
   "metadata": {},
   "outputs": [
    {
     "name": "stdout",
     "output_type": "stream",
     "text": [
      "[INFO] 2024-11-15 16:14:23,952 - purr - (runtime._common_execute:219) - Optimized instruction count: 21\n",
      "[INFO] 2024-11-15 16:14:23,961 - purr - (execution._common_execute:309) - QPU returned results in 0.00817 seconds.\n",
      "[INFO] 2024-11-15 16:14:23,962 - purr - (frontends.execute:201) - Execution completed, took 0.009746 seconds.\n"
     ]
    },
    {
     "data": {
      "text/plain": [
       "{'c': [0, 0]}"
      ]
     },
     "execution_count": 181,
     "metadata": {},
     "output_type": "execute_result"
    }
   ],
   "source": [
    "inst, metrics = qat.compile(prog)\n",
    "res, metrics = qat.execute(inst)\n",
    "res"
   ]
  },
  {
   "cell_type": "code",
   "execution_count": 182,
   "metadata": {},
   "outputs": [
    {
     "name": "stdout",
     "output_type": "stream",
     "text": [
      "[INFO] 2024-11-15 16:14:25,050 - purr - (realtime_chip_simulator.optimize:695) - Instructions optimized in 6.7e-05 seconds.\n",
      "[INFO] 2024-11-15 16:14:25,050 - purr - (runtime._common_execute:219) - Optimized instruction count: 21\n",
      "[INFO] 2024-11-15 16:14:25,305 - purr - (realtime_chip_simulator._execute_on_hardware:1016) - Sim complete.\n",
      "[INFO] 2024-11-15 16:14:25,322 - purr - (execution._common_execute:309) - QPU returned results in 0.271268 seconds.\n",
      "[INFO] 2024-11-15 16:14:25,323 - purr - (frontends.execute:201) - Execution completed, took 0.273295 seconds.\n"
     ]
    },
    {
     "data": {
      "text/plain": [
       "{'c': [1, 0]}"
      ]
     },
     "execution_count": 182,
     "metadata": {},
     "output_type": "execute_result"
    }
   ],
   "source": [
    "qat.set_default_pipeline('rtcs')\n",
    "inst, metrics = qat.compile(prog)\n",
    "res, metrics = qat.execute(inst)\n",
    "res"
   ]
  },
  {
   "cell_type": "code",
   "execution_count": 184,
   "metadata": {},
   "outputs": [
    {
     "name": "stdout",
     "output_type": "stream",
     "text": [
      "[INFO] 2024-11-15 16:14:55,150 - purr - (runtime._common_execute:219) - Optimized instruction count: 21\n",
      "[INFO] 2024-11-15 16:14:55,159 - purr - (execution._common_execute:309) - QPU returned results in 0.008229 seconds.\n",
      "[INFO] 2024-11-15 16:14:55,160 - purr - (frontends.execute:201) - Execution completed, took 0.010197 seconds.\n"
     ]
    },
    {
     "data": {
      "text/plain": [
       "{'c': [0, 0]}"
      ]
     },
     "execution_count": 184,
     "metadata": {},
     "output_type": "execute_result"
    }
   ],
   "source": [
    "inst, metrics = qat.compile(prog, pipeline='echo')\n",
    "res, metrics = qat.execute(inst, pipeline='echo')\n",
    "res"
   ]
  },
  {
   "cell_type": "code",
   "execution_count": 186,
   "metadata": {},
   "outputs": [],
   "source": [
    "from qat.pipelines import DefaultCompile, DefaultExecute\n",
    "from qat.purr.backends.echo import get_default_echo_hardware\n",
    "echo16 = get_default_echo_hardware(qubit_count=16)"
   ]
  },
  {
   "cell_type": "code",
   "execution_count": 187,
   "metadata": {},
   "outputs": [],
   "source": [
    "qat.add_pipeline('echo16', \n",
    "                 compile_pipeline=DefaultCompile(echo16),\n",
    "                 execute_pipeline=DefaultExecute(echo16))"
   ]
  },
  {
   "cell_type": "code",
   "execution_count": 190,
   "metadata": {},
   "outputs": [
    {
     "name": "stdout",
     "output_type": "stream",
     "text": [
      "[INFO] 2024-11-15 16:17:57,914 - purr - (runtime._common_execute:219) - Optimized instruction count: 21\n",
      "[INFO] 2024-11-15 16:17:57,924 - purr - (execution._common_execute:309) - QPU returned results in 0.00951 seconds.\n",
      "[INFO] 2024-11-15 16:17:57,925 - purr - (frontends.execute:201) - Execution completed, took 0.011606 seconds.\n"
     ]
    },
    {
     "data": {
      "text/plain": [
       "{'c': [0, 0]}"
      ]
     },
     "execution_count": 190,
     "metadata": {},
     "output_type": "execute_result"
    }
   ],
   "source": [
    "inst, metrics = qat.compile(prog, pipeline='echo16')\n",
    "res, metrics = qat.execute(inst, pipeline='echo16')\n",
    "res"
   ]
  }
 ],
 "metadata": {
  "kernelspec": {
   "display_name": "qat-compiler-2RwE7-Pm-py3.10",
   "language": "python",
   "name": "python3"
  },
  "language_info": {
   "codemirror_mode": {
    "name": "ipython",
    "version": 3
   },
   "file_extension": ".py",
   "mimetype": "text/x-python",
   "name": "python",
   "nbconvert_exporter": "python",
   "pygments_lexer": "ipython3",
   "version": "3.10.12"
  }
 },
 "nbformat": 4,
 "nbformat_minor": 2
}
