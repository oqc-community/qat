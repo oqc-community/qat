{
 "cells": [
  {
   "cell_type": "code",
   "execution_count": 111,
   "metadata": {},
   "outputs": [],
   "source": [
    "%load_ext autoreload\n",
    "%autoreload 2"
   ]
  },
  {
   "cell_type": "code",
   "execution_count": 1,
   "metadata": {},
   "outputs": [],
   "source": [
    "import json\n",
    "import qat\n",
    "\n",
    "from qat.utils.pydantic import WarnOnExtraFieldsModel\n",
    "\n",
    "from pydantic import ConfigDict, Field, model_validator, field_serializer, ValidationInfo, field_validator, PlainSerializer\n",
    "from typing import Dict, List, Tuple, Union, Optional\n",
    "import typing \n",
    "from typing import Annotated\n",
    "\n",
    "import numpy as np"
   ]
  },
  {
   "cell_type": "code",
   "execution_count": 2,
   "metadata": {},
   "outputs": [],
   "source": [
    "componentid = str\n",
    "class HasId(WarnOnExtraFieldsModel):\n",
    "    id: componentid\n",
    "\n",
    "\n",
    "T = typing.TypeVar('T')\n",
    "SerializeDictToIds = PlainSerializer(lambda d: {k : v.id for (k,v) in d.items()}, return_type=dict, when_used='always')\n",
    "ComponentDict = Annotated[Dict[componentid, T], SerializeDictToIds]\n",
    "\n",
    "SerializeListToIds = PlainSerializer(lambda d: [v.id for v in d], return_type=list, when_used='always')\n",
    "ComponentList = Annotated[List[T], SerializeListToIds]"
   ]
  },
  {
   "cell_type": "code",
   "execution_count": 3,
   "metadata": {},
   "outputs": [],
   "source": [
    "def get_field_type_and_container(cls, field):\n",
    "    field_type = cls.model_fields[field].annotation\n",
    "    container = typing.get_origin(field_type)\n",
    "    field_cls = None\n",
    "    if container is list:\n",
    "        field_cls = typing.get_args(field_type)[0]\n",
    "    if container is dict:\n",
    "        field_cls = typing.get_args(field_type)[1]\n",
    "    return container, field_cls\n",
    "\n",
    "def get_or_create(cls, context, data : str|dict|HasId):\n",
    "    if issubclass(type(data), HasId):\n",
    "        return data \n",
    "    elif isinstance(data, str):\n",
    "        return context.get(data)\n",
    "    else:\n",
    "        return cls(context=context, **data)\n",
    "\n",
    "class HasId(WarnOnExtraFieldsModel):\n",
    "    id: str\n",
    "\n",
    "\n",
    "    def __init__(self, context = None, *args, **kw):\n",
    "        kw = self.populate(context=context, **kw)\n",
    "        super().__init__(*args, **kw)\n",
    "\n",
    "    @classmethod\n",
    "    def populate(cls, context = None, **data):\n",
    "        ''' Load a model from a serialised dict '''\n",
    "        if context is None: \n",
    "            context = {}\n",
    "\n",
    "        for field in cls.model_fields:\n",
    "            container, field_cls = get_field_type_and_container(cls, field)\n",
    "            if container and issubclass(field_cls, HasId):\n",
    "                if container is dict and isinstance(data[field], dict):\n",
    "                    data[field] = {k : get_or_create(field_cls,context, v) for (k,v) in data[field].items()}\n",
    "                    new_context_items = data[field].values()\n",
    "                elif container is list and isinstance(data[field], list):\n",
    "                    data[field] = [get_or_create(field_cls,context, d) for d in data[field]]\n",
    "                    new_context_items = data[field]\n",
    "                else:\n",
    "                    found_type = type(data[field])\n",
    "                    raise Exception(f'Container is {container}, found {found_type}')\n",
    "\n",
    "                context.update({new.id : new for new in new_context_items})\n",
    "        return data"
   ]
  },
  {
   "cell_type": "code",
   "execution_count": 4,
   "metadata": {},
   "outputs": [],
   "source": [
    "class At(HasId):\n",
    "    x: int\n",
    "\n",
    "class Bt(HasId):\n",
    "    x: int\n",
    "    As: ComponentDict[At]\n",
    "\n",
    "class Ct(HasId):\n",
    "    x: int\n",
    "    As: ComponentDict[At]\n",
    "    Bs: ComponentList[Bt]\n",
    "\n",
    "class Dt(HasId):\n",
    "    x: int\n",
    "    Cs: ComponentDict[Ct]"
   ]
  },
  {
   "cell_type": "code",
   "execution_count": 5,
   "metadata": {},
   "outputs": [],
   "source": [
    "class Outer(HasId):\n",
    "    A: List[At]\n",
    "    B: List[Bt]\n",
    "    C: List[Ct]\n",
    "    D: List[Dt]"
   ]
  },
  {
   "cell_type": "markdown",
   "metadata": {},
   "source": [
    "This model is a DAG which means it can be serialised in layers"
   ]
  },
  {
   "cell_type": "code",
   "execution_count": 6,
   "metadata": {},
   "outputs": [],
   "source": [
    "pick = lambda L, size=3: {l.id: l for l in np.random.choice(L, size=size)}\n",
    "\n",
    "A = [At(x=i, id='A' + str(i)) for i in range(10)]\n",
    "B = [Bt(x=i, id='B' + str(i), As=pick(A,3)) for i in range(10)]\n",
    "C = [Ct(x=i, id='C' + str(i), As=pick(A,3), Bs=list(pick(B,3).values())) for i in range(10)]\n",
    "D = [Dt(x=i, id='D' + str(i), Cs=pick(C,3)) for i in range(5)]"
   ]
  },
  {
   "cell_type": "code",
   "execution_count": 8,
   "metadata": {},
   "outputs": [],
   "source": [
    "O1 = Outer(A=A, B=B,C=C,D=D, id='outer')\n",
    "blob = O1.model_dump()\n",
    "O2 = Outer(**blob)\n",
    "assert(O2 == O1)"
   ]
  }
 ],
 "metadata": {
  "kernelspec": {
   "display_name": ".venv",
   "language": "python",
   "name": "python3"
  },
  "language_info": {
   "codemirror_mode": {
    "name": "ipython",
    "version": 3
   },
   "file_extension": ".py",
   "mimetype": "text/x-python",
   "name": "python",
   "nbconvert_exporter": "python",
   "pygments_lexer": "ipython3",
   "version": "3.10.14"
  }
 },
 "nbformat": 4,
 "nbformat_minor": 2
}
