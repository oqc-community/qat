{
 "cells": [
  {
   "cell_type": "code",
   "execution_count": 1,
   "metadata": {},
   "outputs": [],
   "source": [
    "%load_ext autoreload\n",
    "%autoreload 2"
   ]
  },
  {
   "cell_type": "code",
   "execution_count": 2,
   "metadata": {},
   "outputs": [],
   "source": [
    "import numpy as np\n",
    "\n",
    "import typing\n",
    "import types\n",
    "from typing import Annotated, Dict, List, Optional\n",
    "from __future__ import annotations\n",
    "\n",
    "\n",
    "from pydantic import BaseModel, PlainSerializer, model_validator, Field, BeforeValidator\n",
    "\n",
    "from qat.model.component import Component, ComponentId\n",
    "from qat.model.refs import Ref, RefDict, RefList\n",
    "from qat.model.autopopulate import AutoPopulate\n",
    "\n",
    "from typing import NewType\n",
    "import uuid\n",
    "\n",
    "from pydantic import ValidationError\n",
    "\n",
    "from copy import deepcopy"
   ]
  },
  {
   "cell_type": "code",
   "execution_count": 3,
   "metadata": {},
   "outputs": [],
   "source": [
    "def make_refdict(*items: list[Component]):\n",
    "    return {i.to_component_id() : i for i in items}\n"
   ]
  },
  {
   "cell_type": "code",
   "execution_count": null,
   "metadata": {},
   "outputs": [],
   "source": [
    "class A(Component):\n",
    "    pass\n",
    "\n",
    "class B(Component):\n",
    "    x: int\n",
    "    p: Ref[A]\n",
    "\n",
    "a=A()\n",
    "B(x=5,p=a)"
   ]
  },
  {
   "cell_type": "code",
   "execution_count": null,
   "metadata": {},
   "outputs": [],
   "source": []
  },
  {
   "cell_type": "code",
   "execution_count": 5,
   "metadata": {},
   "outputs": [],
   "source": [
    "\n",
    "\n",
    "class C(Component):\n",
    "    z: RefList[A]\n",
    "    rd: RefDict[A]\n",
    "    p: Ref[A]\n",
    "    j: Ref[A]\n",
    "    q: Optional[int]\n",
    "    y: int\n",
    "\n",
    "a = A()\n",
    "b = A()\n",
    "c = C(rd=make_refdict(a,b), z=[ComponentId(),ComponentId()], p=ComponentId(), j=a, q=None, y=3)\n",
    "\n",
    "\n"
   ]
  },
  {
   "cell_type": "code",
   "execution_count": null,
   "metadata": {},
   "outputs": [],
   "source": [
    "print(c.model_dump_json(indent=2))"
   ]
  },
  {
   "cell_type": "code",
   "execution_count": 7,
   "metadata": {},
   "outputs": [],
   "source": [
    "class A(Component):\n",
    "    pass\n",
    "\n",
    "class C(Component):\n",
    "    x: RefDict[A]\n",
    "    y: None | int\n",
    "    z: RefList[A]\n",
    "    p: Ref[A]\n",
    "    j: Ref[A]\n",
    "    q: Optional[int]\n",
    "\n",
    "a = A(id='test1')\n",
    "b = A(id='test2')\n",
    "c = C(x=make_refdict(a,b), y=None, z=[ComponentId(),ComponentId()], p=ComponentId(), j=a, q=None, id=\"test\")\n",
    "\n",
    "expected = {'x': {'type': 'RefDict', 'populated': True},\n",
    " 'z': {'type': 'RefList', 'populated': False},\n",
    " 'p': {'type': 'Ref', 'populated': False},\n",
    "'j': {'type': 'Ref', 'populated': True}}\n",
    "\n",
    "assert c._ref_fields == expected"
   ]
  },
  {
   "cell_type": "code",
   "execution_count": null,
   "metadata": {},
   "outputs": [],
   "source": [
    "a.model_dump_id()"
   ]
  },
  {
   "cell_type": "code",
   "execution_count": 9,
   "metadata": {},
   "outputs": [],
   "source": [
    "class At(Component):\n",
    "    x: int\n",
    "    \n",
    "class Bt(Component):\n",
    "    x: int\n",
    "    s: str\n",
    "    As: RefDict[At]\n",
    "    Ds: RefList[Dt]\n",
    "\n",
    "class Ct(Component):\n",
    "    x: int\n",
    "    As: RefDict[At]\n",
    "    Bs: RefList[Bt]\n",
    "    someB: Ref[Bt]\n",
    "\n",
    "class Dt(Component):\n",
    "    x: int\n",
    "    Cs: RefDict[Ct]"
   ]
  },
  {
   "cell_type": "code",
   "execution_count": 10,
   "metadata": {},
   "outputs": [],
   "source": [
    "class Outer(AutoPopulate):\n",
    "    A: list[At]\n",
    "    B: list[Bt]\n",
    "    C: list[Ct]\n",
    "    D: list[Dt]"
   ]
  },
  {
   "cell_type": "code",
   "execution_count": 11,
   "metadata": {},
   "outputs": [],
   "source": [
    "\n",
    "def make_Outer(count=10, connections=3, seed=42):\n",
    "     rng = np.random.default_rng(seed)\n",
    "     pick = lambda L, size=3: make_refdict(*rng.choice(L, size=size))\n",
    "     A = [At(x=rng.integers(100)) for _ in range(count)]\n",
    "     B = [Bt(x=rng.integers(100), As=pick(A,3), s=f'blah{rng.integers(100)}', Ds=[]) for i in range(count)]\n",
    "     C = [Ct(x=rng.integers(100), As=pick(A,3), Bs=list(pick(B,3).values()), someB=list(pick(B,1).values())[0]) for i in range(count)]\n",
    "     D = [Dt(x=rng.integers(100), Cs=pick(C,3)) for i in range(count)]\n",
    "\n",
    "     for bt in B:\n",
    "          bt.Ds = list(pick(D,3).values())\n",
    "\n",
    "     return Outer(A=A, B=B,C=C,D=D, id='outer')"
   ]
  },
  {
   "cell_type": "code",
   "execution_count": null,
   "metadata": {},
   "outputs": [],
   "source": [
    "O1 = make_Outer(seed=43)\n",
    "O1.B[0].Ds[0].x"
   ]
  },
  {
   "cell_type": "code",
   "execution_count": null,
   "metadata": {},
   "outputs": [],
   "source": [
    "print(O1.model_dump_json(indent=2))"
   ]
  },
  {
   "cell_type": "code",
   "execution_count": null,
   "metadata": {},
   "outputs": [],
   "source": [
    "O2 = Outer(**O1.model_dump())\n",
    "O2.B[0].Ds[0].x"
   ]
  },
  {
   "cell_type": "code",
   "execution_count": null,
   "metadata": {},
   "outputs": [],
   "source": [
    "O1.model_dump()['D'][0]['Cs']"
   ]
  },
  {
   "cell_type": "code",
   "execution_count": 16,
   "metadata": {},
   "outputs": [],
   "source": [
    "O3 = make_Outer(seed=6353234234)\n",
    "for idx in range(100):\n",
    "    seed = np.random.randint(10_000)\n",
    "    O1 = make_Outer(seed=seed)\n",
    "    blob = O1.model_dump()\n",
    "    O2 = Outer(**blob)\n",
    "    blob2 = O2.model_dump()\n",
    "\n",
    "    assert O1._deepequals(O2)\n",
    "    assert not O1._deepequals(O3)\n",
    "\n",
    "    O3 = deepcopy(O1)\n",
    "\n",
    "    assert O3._deepequals(O1)\n",
    "    O3.C[3].x = -1\n",
    "\n",
    "    assert not O3._deepequals(O1)\n"
   ]
  },
  {
   "cell_type": "code",
   "execution_count": 17,
   "metadata": {},
   "outputs": [],
   "source": [
    "for idx in range(100):\n",
    "    O1 = make_Outer(seed=idx)\n",
    "    blob = O1.model_dump()\n",
    "    O2 = Outer(**blob)\n",
    "    blob2 = O2.model_dump()\n",
    "\n",
    "    assert blob == blob2"
   ]
  },
  {
   "cell_type": "code",
   "execution_count": 18,
   "metadata": {},
   "outputs": [],
   "source": [
    "for idx in range(10):\n",
    "    O1 = make_Outer(count=50, seed=idx)\n",
    "    blob = O1.model_dump()\n",
    "    O2 = Outer(**blob)\n",
    "\n",
    "    assert O1._deepequals(O2)"
   ]
  },
  {
   "cell_type": "code",
   "execution_count": 19,
   "metadata": {},
   "outputs": [],
   "source": [
    "O1 = make_Outer(count=50, seed=idx)\n",
    "O2 = deepcopy(O2)\n",
    "O2.C[3].x = -1"
   ]
  },
  {
   "cell_type": "code",
   "execution_count": null,
   "metadata": {},
   "outputs": [],
   "source": [
    "%%timeit\n",
    "O1 == O2"
   ]
  },
  {
   "cell_type": "code",
   "execution_count": null,
   "metadata": {},
   "outputs": [],
   "source": [
    "%%timeit\n",
    "blob = O1.model_dump()\n",
    "O2 = Outer(**blob)\n",
    "blob2 = O2.model_dump()\n",
    "\n",
    "assert blob == blob2"
   ]
  },
  {
   "cell_type": "code",
   "execution_count": null,
   "metadata": {},
   "outputs": [],
   "source": []
  }
 ],
 "metadata": {
  "kernelspec": {
   "display_name": ".venv",
   "language": "python",
   "name": "python3"
  },
  "language_info": {
   "codemirror_mode": {
    "name": "ipython",
    "version": 3
   },
   "file_extension": ".py",
   "mimetype": "text/x-python",
   "name": "python",
   "nbconvert_exporter": "python",
   "pygments_lexer": "ipython3",
   "version": "3.10.14"
  }
 },
 "nbformat": 4,
 "nbformat_minor": 2
}
