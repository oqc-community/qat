{
 "cells": [
  {
   "cell_type": "markdown",
   "metadata": {},
   "source": [
    "#### New QAT frontdoor getting started (EXPERIMENTAL)\n",
    "\n",
    "This is a demo of the new QAT 'frontdoor' which uses the experimental QAT pipelines.\n",
    "\n",
    "We aren't using this in production yet and your mileage may vary."
   ]
  },
  {
   "cell_type": "code",
   "execution_count": null,
   "metadata": {},
   "outputs": [],
   "source": [
    "%load_ext autoreload\n",
    "%autoreload 2"
   ]
  },
  {
   "cell_type": "code",
   "execution_count": null,
   "metadata": {},
   "outputs": [],
   "source": [
    "# This is required to support both the script and notebook versions of this file\n",
    "from pathlib import Path\n",
    "\n",
    "if nb_dir := globals().get(\"_dh\"):\n",
    "    notebooks_dir = Path(nb_dir[0]).parents[0].resolve()\n",
    "else:\n",
    "    notebooks_dir = Path(__file__).parents[1].resolve()"
   ]
  },
  {
   "cell_type": "markdown",
   "metadata": {},
   "source": [
    "Import QAT and instantiate a qat instance"
   ]
  },
  {
   "cell_type": "code",
   "execution_count": null,
   "metadata": {},
   "outputs": [],
   "source": [
    "from qat import QAT\n",
    "\n",
    "qat = QAT()"
   ]
  },
  {
   "cell_type": "markdown",
   "metadata": {},
   "source": [
    "Default pipelines are setup by default..."
   ]
  },
  {
   "cell_type": "code",
   "execution_count": null,
   "metadata": {},
   "outputs": [],
   "source": [
    "qat.pipelines"
   ]
  },
  {
   "cell_type": "markdown",
   "metadata": {},
   "source": [
    "Define a program..."
   ]
  },
  {
   "cell_type": "code",
   "execution_count": null,
   "metadata": {},
   "outputs": [],
   "source": [
    "src = \"\"\"\n",
    "OPENQASM 3;\n",
    "bit[2] c;\n",
    "qubit[2] q;\n",
    "h q;\n",
    "measure q -> c;\n",
    "\"\"\""
   ]
  },
  {
   "cell_type": "markdown",
   "metadata": {},
   "source": [
    "Compile it with the default pipeline..."
   ]
  },
  {
   "cell_type": "code",
   "execution_count": null,
   "metadata": {},
   "outputs": [],
   "source": [
    "pkg, metrics = qat.compile(src)"
   ]
  },
  {
   "cell_type": "markdown",
   "metadata": {},
   "source": [
    "Execute the compiled program with the default pipeline..."
   ]
  },
  {
   "cell_type": "code",
   "execution_count": null,
   "metadata": {},
   "outputs": [],
   "source": [
    "res, metrics = qat.execute(pkg)\n",
    "print(res)"
   ]
  },
  {
   "cell_type": "markdown",
   "metadata": {},
   "source": [
    "Comile and execute a program with a different pipeline..."
   ]
  },
  {
   "cell_type": "code",
   "execution_count": null,
   "metadata": {},
   "outputs": [],
   "source": [
    "pkg, metrics = qat.compile(src, pipeline=\"echo16\")\n",
    "res, metrics = qat.execute(pkg, pipeline=\"echo16\")"
   ]
  },
  {
   "cell_type": "markdown",
   "metadata": {},
   "source": [
    "QAT pipelines can also be configured with YAML..."
   ]
  },
  {
   "cell_type": "code",
   "execution_count": null,
   "metadata": {},
   "outputs": [],
   "source": [
    "qat = QAT(qatconfig=str(notebooks_dir) + \"/qatconfig.yaml\")\n",
    "qat.pipelines"
   ]
  },
  {
   "cell_type": "markdown",
   "metadata": {},
   "source": [
    "The yaml looks like this... (It's not very flexible yet it will be)"
   ]
  },
  {
   "cell_type": "code",
   "execution_count": null,
   "metadata": {},
   "outputs": [],
   "source": [
    "import pathlib\n",
    "\n",
    "import yaml\n",
    "\n",
    "print(yaml.dump(yaml.safe_load(pathlib.Path(notebooks_dir, \"qatconfig.yaml\").read_text())))"
   ]
  },
  {
   "cell_type": "markdown",
   "metadata": {},
   "source": [
    "Change the default pipeline"
   ]
  },
  {
   "cell_type": "code",
   "execution_count": null,
   "metadata": {
    "lines_to_next_cell": 2
   },
   "outputs": [],
   "source": [
    "qat.pipelines.set_default(\"echo8-alt\")\n",
    "\n",
    "# Default shot number is now highet than pipeline max limit\n",
    "try:\n",
    "    inst, metrics = qat.compile(src)\n",
    "except ValueError as ex:\n",
    "    print(ex)"
   ]
  },
  {
   "cell_type": "markdown",
   "metadata": {},
   "source": [
    "Create a custom config and set a lower shot count"
   ]
  },
  {
   "cell_type": "code",
   "execution_count": null,
   "metadata": {},
   "outputs": [],
   "source": [
    "from compiler_config.config import CompilerConfig\n",
    "\n",
    "config = CompilerConfig(repeats=8)\n",
    "inst, metrics = qat.compile(src, compiler_config=config)\n",
    "res, metrics = qat.execute(inst, compiler_config=config)\n",
    "print(res)"
   ]
  },
  {
   "cell_type": "markdown",
   "metadata": {},
   "source": [
    "Run a program as a one liner..."
   ]
  },
  {
   "cell_type": "code",
   "execution_count": null,
   "metadata": {},
   "outputs": [],
   "source": [
    "res, metrics = qat.run(src, compiler_config=config)\n",
    "print(res)"
   ]
  },
  {
   "cell_type": "markdown",
   "metadata": {},
   "source": [
    "Make a custom pipeline"
   ]
  },
  {
   "cell_type": "code",
   "execution_count": null,
   "metadata": {},
   "outputs": [],
   "source": [
    "from qat import Pipeline"
   ]
  },
  {
   "cell_type": "code",
   "execution_count": null,
   "metadata": {
    "lines_to_next_cell": 2
   },
   "outputs": [],
   "source": [
    "from qat.backend.waveform_v1.codegen import WaveformV1Backend\n",
    "from qat.engines.waveform_v1 import EchoEngine\n",
    "from qat.frontend import AutoFrontend\n",
    "from qat.middleend.middleends import DefaultMiddleend\n",
    "from qat.purr.backends.echo import get_default_echo_hardware\n",
    "from qat.runtime.simple import SimpleRuntime\n",
    "\n",
    "model = get_default_echo_hardware(qubit_count=16)\n",
    "P = Pipeline(\n",
    "    name=\"mycoolnewpipeline\",\n",
    "    frontend=AutoFrontend(model),\n",
    "    middleend=DefaultMiddleend(model),\n",
    "    backend=WaveformV1Backend(model),\n",
    "    runtime=SimpleRuntime(engine=EchoEngine()),\n",
    "    model=model,\n",
    ")"
   ]
  },
  {
   "cell_type": "markdown",
   "metadata": {},
   "source": [
    "Compile and execute against the new pipeline"
   ]
  },
  {
   "cell_type": "code",
   "execution_count": null,
   "metadata": {},
   "outputs": [],
   "source": [
    "pkg, metrics = qat.compile(src, compiler_config=config, pipeline=P)\n",
    "res, metrics = qat.execute(pkg, compiler_config=config, pipeline=P)\n",
    "print(res)"
   ]
  },
  {
   "cell_type": "markdown",
   "metadata": {},
   "source": [
    "Keep it around for later..."
   ]
  },
  {
   "cell_type": "code",
   "execution_count": null,
   "metadata": {},
   "outputs": [],
   "source": [
    "qat.pipelines.add(P)\n",
    "P.name"
   ]
  },
  {
   "cell_type": "markdown",
   "metadata": {},
   "source": [
    "Now it's available by name"
   ]
  },
  {
   "cell_type": "code",
   "execution_count": null,
   "metadata": {},
   "outputs": [],
   "source": [
    "pkg, metrics = qat.compile(src, compiler_config=config, pipeline=\"mycoolnewpipeline\")\n",
    "res, metrics = qat.execute(pkg, compiler_config=config, pipeline=\"mycoolnewpipeline\")\n",
    "print(res)"
   ]
  },
  {
   "cell_type": "code",
   "execution_count": null,
   "metadata": {},
   "outputs": [],
   "source": []
  }
 ],
 "metadata": {
  "jupytext": {
   "main_language": "python",
   "notebook_metadata_filter": "-kernelspec"
  },
  "language_info": {
   "codemirror_mode": {
    "name": "ipython",
    "version": 3
   },
   "file_extension": ".py",
   "mimetype": "text/x-python",
   "name": "python",
   "nbconvert_exporter": "python",
   "pygments_lexer": "ipython3",
   "version": "3.10.17"
  }
 },
 "nbformat": 4,
 "nbformat_minor": 4
}
