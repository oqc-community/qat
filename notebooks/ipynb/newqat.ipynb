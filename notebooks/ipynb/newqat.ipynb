{
 "cells": [
  {
   "cell_type": "markdown",
   "metadata": {},
   "source": [
    "#### New QAT frontdoor getting started (EXPERIMENTAL)\n",
    "\n",
    "This is a demo of the new QAT 'frontdoor' which uses the experimental QAT pipelines.\n",
    "\n",
    "We aren't using this in production yet and your mileage may vary."
   ]
  },
  {
   "cell_type": "code",
   "execution_count": null,
   "metadata": {},
   "outputs": [],
   "source": [
    "%load_ext autoreload\n",
    "%autoreload 2"
   ]
  },
  {
   "cell_type": "code",
   "execution_count": null,
   "metadata": {},
   "outputs": [],
   "source": [
    "from qat import QAT"
   ]
  },
  {
   "cell_type": "code",
   "execution_count": null,
   "metadata": {},
   "outputs": [],
   "source": [
    "prog = \"\"\"\n",
    "OPENQASM 3;\n",
    "bit[2] c;\n",
    "qubit[2] q;\n",
    "h q;\n",
    "measure q -> c;\n",
    "\"\"\""
   ]
  },
  {
   "cell_type": "code",
   "execution_count": null,
   "metadata": {},
   "outputs": [],
   "source": [
    "qat = QAT(\"../qatconfig.eg.yaml\")\n",
    "qat.set_default_pipeline(\"echo\")"
   ]
  },
  {
   "cell_type": "code",
   "execution_count": null,
   "metadata": {},
   "outputs": [],
   "source": [
    "inst, metrics = qat.compile(prog)\n",
    "res, metrics = qat.execute(inst)\n",
    "res"
   ]
  },
  {
   "cell_type": "code",
   "execution_count": null,
   "metadata": {},
   "outputs": [],
   "source": [
    "qat.set_default_pipeline(\"rtcs\")\n",
    "inst, metrics = qat.compile(prog)\n",
    "res, metrics = qat.execute(inst)\n",
    "res"
   ]
  },
  {
   "cell_type": "code",
   "execution_count": null,
   "metadata": {},
   "outputs": [],
   "source": [
    "inst, metrics = qat.compile(prog, pipeline=\"echo\")\n",
    "res, metrics = qat.execute(inst, pipeline=\"echo\")\n",
    "res"
   ]
  },
  {
   "cell_type": "code",
   "execution_count": null,
   "metadata": {},
   "outputs": [],
   "source": [
    "from qat.pipelines import DefaultCompile, DefaultExecute, DefaultPostProcessing\n",
    "from qat.purr.backends.echo import get_default_echo_hardware\n",
    "\n",
    "echo16 = get_default_echo_hardware(qubit_count=16)"
   ]
  },
  {
   "cell_type": "code",
   "execution_count": null,
   "metadata": {},
   "outputs": [],
   "source": [
    "qat.add_pipeline(\n",
    "    \"echo16\",\n",
    "    compile_pipeline=DefaultCompile(echo16),\n",
    "    execute_pipeline=DefaultExecute(echo16),\n",
    "    postprocess_pipeline=DefaultPostProcessing(echo16),\n",
    "    engine=echo16.create_engine(),\n",
    ")"
   ]
  },
  {
   "cell_type": "code",
   "execution_count": null,
   "metadata": {},
   "outputs": [],
   "source": [
    "inst, metrics = qat.compile(prog, pipeline=\"echo16\")\n",
    "res, metrics = qat.execute(inst, pipeline=\"echo16\")\n",
    "res"
   ]
  }
 ],
 "metadata": {
  "jupytext": {
   "main_language": "python",
   "notebook_metadata_filter": "-kernelspec"
  },
  "language_info": {
   "codemirror_mode": {
    "name": "ipython",
    "version": 3
   },
   "file_extension": ".py",
   "mimetype": "text/x-python",
   "name": "python",
   "nbconvert_exporter": "python",
   "pygments_lexer": "ipython3",
   "version": "3.10.12"
  }
 },
 "nbformat": 4,
 "nbformat_minor": 2
}
