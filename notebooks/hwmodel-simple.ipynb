{
 "cells": [
  {
   "cell_type": "code",
   "execution_count": 2,
   "metadata": {},
   "outputs": [],
   "source": [
    "from pydantic import BaseModel, Field, model_validator\n",
    "from typing import Optional\n",
    "\n",
    "import numpy as np"
   ]
  },
  {
   "cell_type": "code",
   "execution_count": 3,
   "metadata": {},
   "outputs": [],
   "source": [
    "qubit_id = int"
   ]
  },
  {
   "cell_type": "code",
   "execution_count": 4,
   "metadata": {},
   "outputs": [],
   "source": [
    "class SimplePhysicalBaseBand(BaseModel):\n",
    "    frequency: float = Field(ge=0.0)\n",
    "    if_frequency: Optional[float] = Field(ge=0.0, default=250e6)\n",
    "\n",
    "class SimplePhysicalChannel(BaseModel):\n",
    "    sample_time: float = Field(ge=0.0)\n",
    "    block_size: Optional[int] = Field(ge=1, default=1)\n",
    "    phase_iq_offset: float = 0.0\n",
    "    bias: float = 1.0\n",
    "    acquire_allowed: bool = False\n",
    "    min_frequency: float = Field(ge=0.0, default=0.0)\n",
    "    max_frequency: float = np.inf\n",
    "    baseband: SimplePhysicalBaseBand"
   ]
  },
  {
   "cell_type": "code",
   "execution_count": 28,
   "metadata": {},
   "outputs": [],
   "source": [
    "class SimplePulseChannel(BaseModel):\n",
    "    frequency: float = Field(ge=0.0, default=0.0)\n",
    "    bias: complex = 0.0 + 0.0j\n",
    "    scale: complex = 1.0 + 0.0j\n",
    "    fixed_if: bool = False\n",
    "\n",
    "class MeasurePulseChannel(SimplePulseChannel):\n",
    "    pass\n",
    "\n",
    "class DrivePulseChannel(SimplePulseChannel):\n",
    "    pass\n",
    "\n",
    "class AcquirePulseChannel(SimplePulseChannel):\n",
    "    pass\n",
    "\n",
    "class SecondStatePulseChannel(SimplePulseChannel):\n",
    "    pass\n",
    "\n",
    "class AcquirePulseChannel(SimplePulseChannel):\n",
    "    pass\n",
    "\n",
    "class CrossResonancePulseChannel(SimplePulseChannel):\n",
    "    target_qubit : qubit_id\n",
    "\n",
    "class CrossResonanceCancellationPulseChannel(SimplePulseChannel):\n",
    "    target_qubit : qubit_id"
   ]
  },
  {
   "cell_type": "code",
   "execution_count": 29,
   "metadata": {},
   "outputs": [],
   "source": [
    "class ResonatorPulseChannels(BaseModel):\n",
    "    measure : MeasurePulseChannel\n",
    "    acquire: AcquirePulseChannel"
   ]
  },
  {
   "cell_type": "code",
   "execution_count": 21,
   "metadata": {},
   "outputs": [],
   "source": [
    "class QubitPulseChannels(BaseModel):\n",
    "    drive : DrivePulseChannel"
   ]
  },
  {
   "cell_type": "code",
   "execution_count": 22,
   "metadata": {},
   "outputs": [],
   "source": [
    "class ArbSeqQubitPulseChannels(QubitPulseChannels):\n",
    "    second_state : SecondStatePulseChannel\n",
    "    freq_shift: SimplePulseChannel # What is this?\n",
    "    macq: SimplePulseChannel # What is this?\n",
    "    cross_resonance_channels: tuple[CrossResonancePulseChannel]\n",
    "    cross_resonance_cancellation: tuple[CrossResonanceCancellationPulseChannel]\n"
   ]
  },
  {
   "cell_type": "code",
   "execution_count": 24,
   "metadata": {},
   "outputs": [],
   "source": [
    "class SimpleQubit(BaseModel):\n",
    "    physical_channel: SimplePhysicalChannel\n",
    "    pulse_channels: QubitPulseChannels\n",
    "    resonator: ResonatorPulseChannels"
   ]
  },
  {
   "cell_type": "code",
   "execution_count": 25,
   "metadata": {},
   "outputs": [],
   "source": [
    "class ArbSeqQubit(SimpleQubit):\n",
    "    physical_channel: SimplePhysicalChannel\n",
    "    pulse_channels: ArbSeqQubitPulseChannels"
   ]
  },
  {
   "cell_type": "code",
   "execution_count": 26,
   "metadata": {},
   "outputs": [],
   "source": [
    "class SimpleHardwareModel(BaseModel):\n",
    "    qubits : dict[qubit_id,SimpleQubit]\n",
    "    topology : dict[qubit_id, tuple[qubit_id,qubit_id]]\n",
    "\n",
    "    @model_validator(mode='after')\n",
    "    def validate_model(self):\n",
    "        # Check the qubit numbers match\n",
    "        assert set(self.topology) == set(self.qubits)"
   ]
  },
  {
   "cell_type": "code",
   "execution_count": 27,
   "metadata": {},
   "outputs": [],
   "source": [
    "class ArbSeqHardwareModel(BaseModel):\n",
    "    qubits : dict[qubit_id,ArbSeqQubit]\n",
    "    topology : dict[qubit_id, tuple[qubit_id,qubit_id]]\n",
    "    # We should validate the qubits match the topology\n",
    "    # I.e. the set of qubit_ids is the same and the \n",
    "\n",
    "    @model_validator(mode='after')\n",
    "    def validate_couplings(self):\n",
    "        # Check the qubit topology matches the cross_resonance channels\n",
    "        pass"
   ]
  },
  {
   "cell_type": "code",
   "execution_count": null,
   "metadata": {},
   "outputs": [],
   "source": []
  }
 ],
 "metadata": {
  "kernelspec": {
   "display_name": ".venv",
   "language": "python",
   "name": "python3"
  },
  "language_info": {
   "codemirror_mode": {
    "name": "ipython",
    "version": 3
   },
   "file_extension": ".py",
   "mimetype": "text/x-python",
   "name": "python",
   "nbconvert_exporter": "python",
   "pygments_lexer": "ipython3",
   "version": "3.10.14"
  }
 },
 "nbformat": 4,
 "nbformat_minor": 2
}
