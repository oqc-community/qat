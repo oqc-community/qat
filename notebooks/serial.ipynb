{
 "cells": [
  {
   "cell_type": "code",
   "execution_count": 2,
   "metadata": {},
   "outputs": [],
   "source": [
    "%load_ext autoreload\n",
    "%autoreload 2"
   ]
  },
  {
   "cell_type": "code",
   "execution_count": 20,
   "metadata": {},
   "outputs": [],
   "source": [
    "from IPython.display import JSON"
   ]
  },
  {
   "cell_type": "code",
   "execution_count": 3,
   "metadata": {},
   "outputs": [],
   "source": [
    "import qat\n",
    "\n",
    "from qat.model.model import QuantumHardwareModel as QuantumCalibrationModel, GateSet\n",
    "from qat.utils.pydantic import WarnOnExtraFieldsModel\n",
    "\n",
    "from pydantic import ConfigDict, Field, model_validator\n",
    "from typing import Dict, List, Tuple, Union"
   ]
  },
  {
   "cell_type": "code",
   "execution_count": 46,
   "metadata": {},
   "outputs": [],
   "source": [
    "class At(WarnOnExtraFieldsModel):\n",
    "    x: int"
   ]
  },
  {
   "cell_type": "code",
   "execution_count": 47,
   "metadata": {},
   "outputs": [],
   "source": [
    "class Bt(WarnOnExtraFieldsModel):\n",
    "    x: int"
   ]
  },
  {
   "cell_type": "code",
   "execution_count": 60,
   "metadata": {},
   "outputs": [],
   "source": [
    "class Ct(WarnOnExtraFieldsModel):\n",
    "    x: int\n",
    "    id: str"
   ]
  },
  {
   "cell_type": "code",
   "execution_count": 61,
   "metadata": {},
   "outputs": [],
   "source": [
    "class Dt(WarnOnExtraFieldsModel):\n",
    "    x: int\n",
    "    Cs: Dict[str, Ct]"
   ]
  },
  {
   "cell_type": "code",
   "execution_count": 62,
   "metadata": {},
   "outputs": [],
   "source": [
    "class Outer(WarnOnExtraFieldsModel):\n",
    "    A: List[At]\n",
    "    B: List[Bt]\n",
    "    C: List[Ct]\n",
    "    D: List[Dt]"
   ]
  },
  {
   "cell_type": "code",
   "execution_count": 69,
   "metadata": {},
   "outputs": [],
   "source": [
    "A = [At(x=i) for i in range(5)]\n",
    "B = [Bt(x=100+i) for i in range(5)]\n",
    "C = [Ct(x=100+i, id=str(i)) for i in range(2)]\n",
    "D = [Dt(x=100+i, Cs={c.id: c for c in C[0:1]}) for i in range(5)]"
   ]
  },
  {
   "cell_type": "code",
   "execution_count": 70,
   "metadata": {},
   "outputs": [],
   "source": [
    "O = Outer(A=[], B=[],C=C,D=D)"
   ]
  },
  {
   "cell_type": "code",
   "execution_count": 71,
   "metadata": {},
   "outputs": [
    {
     "data": {
      "application/json": {
       "A": [],
       "B": [],
       "C": [
        {
         "id": "0",
         "x": 100
        },
        {
         "id": "1",
         "x": 101
        }
       ],
       "D": [
        {
         "Cs": {
          "0": {
           "id": "0",
           "x": 100
          }
         },
         "x": 100
        },
        {
         "Cs": {
          "0": {
           "id": "0",
           "x": 100
          }
         },
         "x": 101
        },
        {
         "Cs": {
          "0": {
           "id": "0",
           "x": 100
          }
         },
         "x": 102
        },
        {
         "Cs": {
          "0": {
           "id": "0",
           "x": 100
          }
         },
         "x": 103
        },
        {
         "Cs": {
          "0": {
           "id": "0",
           "x": 100
          }
         },
         "x": 104
        }
       ]
      },
      "text/plain": [
       "<IPython.core.display.JSON object>"
      ]
     },
     "execution_count": 71,
     "metadata": {
      "application/json": {
       "expanded": false,
       "root": "root"
      }
     },
     "output_type": "execute_result"
    }
   ],
   "source": [
    "JSON(O.model_dump())"
   ]
  },
  {
   "cell_type": "code",
   "execution_count": null,
   "metadata": {},
   "outputs": [],
   "source": []
  }
 ],
 "metadata": {
  "kernelspec": {
   "display_name": ".venv",
   "language": "python",
   "name": "python3"
  },
  "language_info": {
   "codemirror_mode": {
    "name": "ipython",
    "version": 3
   },
   "file_extension": ".py",
   "mimetype": "text/x-python",
   "name": "python",
   "nbconvert_exporter": "python",
   "pygments_lexer": "ipython3",
   "version": "3.10.14"
  }
 },
 "nbformat": 4,
 "nbformat_minor": 2
}
