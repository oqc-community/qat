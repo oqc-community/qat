{
 "cells": [
  {
   "cell_type": "code",
   "execution_count": 6,
   "metadata": {},
   "outputs": [],
   "source": [
    "from qat.model.device_models import PhysicalBaseband, PhysicalChannel, PulseChannel, QuantumDevice, Qubit, Resonator"
   ]
  },
  {
   "cell_type": "code",
   "execution_count": 2,
   "metadata": {},
   "outputs": [
    {
     "data": {
      "text/plain": [
       "{'id': '6a4c0123-28eb-46a6-b766-a6c85fa55c54',\n",
       " 'tag': {'uuid': '6a4c0123-28eb-46a6-b766-a6c85fa55c54',\n",
       "  'tag_type': 'PhysicalBasebandId'},\n",
       " 'frequency': 5000000000.0,\n",
       " 'if_frequency': 250000000.0}"
      ]
     },
     "execution_count": 2,
     "metadata": {},
     "output_type": "execute_result"
    }
   ],
   "source": [
    "bb = PhysicalBaseband(id=\"\", frequency=5e09)\n",
    "bb.model_dump()"
   ]
  },
  {
   "cell_type": "code",
   "execution_count": 3,
   "metadata": {},
   "outputs": [
    {
     "data": {
      "text/plain": [
       "{'id': 'e1f18317-05e8-4912-ae0c-177e0ea6e5b8',\n",
       " 'tag': {'uuid': 'e1f18317-05e8-4912-ae0c-177e0ea6e5b8',\n",
       "  'tag_type': 'PhysicalChannelId'},\n",
       " 'baseband': {'uuid': '6a4c0123-28eb-46a6-b766-a6c85fa55c54',\n",
       "  'tag_type': 'PhysicalBasebandId'},\n",
       " 'sample_time': 1e-09,\n",
       " 'block_size': 1,\n",
       " 'phase_iq_offset': 0.0,\n",
       " 'bias': 1.0,\n",
       " 'acquire_allowed': False,\n",
       " 'min_frequency': 0.0,\n",
       " 'max_frequency': inf}"
      ]
     },
     "execution_count": 3,
     "metadata": {},
     "output_type": "execute_result"
    }
   ],
   "source": [
    "phys_ch = PhysicalChannel(baseband=bb, sample_time=1e-09)\n",
    "phys_ch.model_dump()"
   ]
  },
  {
   "cell_type": "code",
   "execution_count": 7,
   "metadata": {},
   "outputs": [
    {
     "data": {
      "text/plain": [
       "({'id': 'f18b4b5c-37dd-489e-aa21-ae694df50d98',\n",
       "  'tag': {'uuid': 'f18b4b5c-37dd-489e-aa21-ae694df50d98',\n",
       "   'tag_type': 'PulseChannelId'},\n",
       "  'physical_channel': {'uuid': 'e1f18317-05e8-4912-ae0c-177e0ea6e5b8',\n",
       "   'tag_type': 'PhysicalChannelId'},\n",
       "  'frequency': 1000000000.0,\n",
       "  'bias': 0j,\n",
       "  'scale': (1+0j),\n",
       "  'fixed_if': False,\n",
       "  'channel_type': None,\n",
       "  'auxiliary_devices': None},\n",
       " {'id': 'f18b4b5c-37dd-489e-aa21-ae694df50d98',\n",
       "  'tag': {'uuid': 'f18b4b5c-37dd-489e-aa21-ae694df50d98',\n",
       "   'tag_type': 'PulseChannelId'},\n",
       "  'physical_channel': {'uuid': 'e1f18317-05e8-4912-ae0c-177e0ea6e5b8',\n",
       "   'tag_type': 'PhysicalChannelId'},\n",
       "  'frequency': 2000000000.0,\n",
       "  'bias': 0j,\n",
       "  'scale': (1+0j),\n",
       "  'fixed_if': False,\n",
       "  'channel_type': None,\n",
       "  'auxiliary_devices': None})"
      ]
     },
     "execution_count": 7,
     "metadata": {},
     "output_type": "execute_result"
    }
   ],
   "source": [
    "pulse_ch1 = PulseChannel(physical_channel=phys_ch, frequency=1e09)\n",
    "pulse_ch2 = PulseChannel(physical_channel=phys_ch, frequency=2e09)\n",
    "pulse_ch1.model_dump(), pulse_ch2.model_dump()"
   ]
  },
  {
   "cell_type": "code",
   "execution_count": 5,
   "metadata": {},
   "outputs": [
    {
     "data": {
      "text/plain": [
       "{'id': 'ac4802db-7138-4b07-aae3-80670bf9662b',\n",
       " 'tag': {'uuid': 'ac4802db-7138-4b07-aae3-80670bf9662b',\n",
       "  'tag_type': 'QuantumDeviceId'},\n",
       " 'pulse_channels': [{'uuid': 'f18b4b5c-37dd-489e-aa21-ae694df50d98',\n",
       "   'tag_type': 'PulseChannelId'}],\n",
       " 'physical_channel': {'uuid': 'e1f18317-05e8-4912-ae0c-177e0ea6e5b8',\n",
       "  'tag_type': 'PhysicalChannelId'},\n",
       " 'measure_device': None,\n",
       " 'default_pulse_channel_type': measure}"
      ]
     },
     "execution_count": 5,
     "metadata": {},
     "output_type": "execute_result"
    }
   ],
   "source": [
    "qd = QuantumDevice(pulse_channels={pulse_ch1.id: pulse_ch1, pulse_ch2.id: pulse_ch2}, physical_channel=phys_ch)\n",
    "qd.model_dump()"
   ]
  },
  {
   "cell_type": "code",
   "execution_count": 9,
   "metadata": {},
   "outputs": [
    {
     "data": {
      "text/plain": [
       "{'id': '15596e7e-a0b4-41ba-9674-a661e001bdc3',\n",
       " 'tag': {'uuid': '15596e7e-a0b4-41ba-9674-a661e001bdc3',\n",
       "  'tag_type': 'ResonatorId'},\n",
       " 'pulse_channels': [{'uuid': 'f18b4b5c-37dd-489e-aa21-ae694df50d98',\n",
       "   'tag_type': 'PulseChannelId'}],\n",
       " 'physical_channel': {'uuid': 'e1f18317-05e8-4912-ae0c-177e0ea6e5b8',\n",
       "  'tag_type': 'PhysicalChannelId'},\n",
       " 'measure_device': None,\n",
       " 'default_pulse_channel_type': measure}"
      ]
     },
     "execution_count": 9,
     "metadata": {},
     "output_type": "execute_result"
    }
   ],
   "source": [
    "resonator = Resonator(pulse_channels={pulse_ch1.id: pulse_ch1, pulse_ch2.id: pulse_ch2}, physical_channel=phys_ch)\n",
    "resonator.model_dump()"
   ]
  },
  {
   "cell_type": "code",
   "execution_count": 12,
   "metadata": {},
   "outputs": [
    {
     "data": {
      "text/plain": [
       "{'id': '6a405043-3883-402e-81a7-bd747b8b07eb',\n",
       " 'tag': {'uuid': '6a405043-3883-402e-81a7-bd747b8b07eb',\n",
       "  'tag_type': 'ResonatorId'},\n",
       " 'pulse_channels': [{'uuid': 'f18b4b5c-37dd-489e-aa21-ae694df50d98',\n",
       "   'tag_type': 'PulseChannelId'}],\n",
       " 'physical_channel': {'uuid': 'e1f18317-05e8-4912-ae0c-177e0ea6e5b8',\n",
       "  'tag_type': 'PhysicalChannelId'},\n",
       " 'measure_device': {'uuid': '15596e7e-a0b4-41ba-9674-a661e001bdc3',\n",
       "  'tag_type': 'ResonatorId'},\n",
       " 'default_pulse_channel_type': drive,\n",
       " 'index': 1,\n",
       " 'drive_amp': 1.0}"
      ]
     },
     "execution_count": 12,
     "metadata": {},
     "output_type": "execute_result"
    }
   ],
   "source": [
    "qubit =  Qubit(index=1, measure_device=resonator, pulse_channels={pulse_ch1.id: pulse_ch1, pulse_ch2.id: pulse_ch2}, physical_channel=phys_ch)\n",
    "qubit.model_dump()"
   ]
  },
  {
   "cell_type": "code",
   "execution_count": null,
   "metadata": {},
   "outputs": [],
   "source": []
  }
 ],
 "metadata": {
  "kernelspec": {
   "display_name": ".venv",
   "language": "python",
   "name": "python3"
  },
  "language_info": {
   "codemirror_mode": {
    "name": "ipython",
    "version": 3
   },
   "file_extension": ".py",
   "mimetype": "text/x-python",
   "name": "python",
   "nbconvert_exporter": "python",
   "pygments_lexer": "ipython3",
   "version": "3.12.6"
  }
 },
 "nbformat": 4,
 "nbformat_minor": 2
}
