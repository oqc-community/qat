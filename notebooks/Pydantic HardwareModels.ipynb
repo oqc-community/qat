{
 "cells": [
  {
   "cell_type": "code",
   "execution_count": 1,
   "metadata": {},
   "outputs": [],
   "source": [
    "from qat.model.device_models import PhysicalBaseband, PhysicalChannel, PulseChannel, QubitData, ResonatorData\n",
    "from qat.model.quantum_devices import QuantumDevice, Qubit, Resonator\n",
    "\n",
    "from qat.purr.compiler.devices import ChannelType"
   ]
  },
  {
   "cell_type": "code",
   "execution_count": 2,
   "metadata": {},
   "outputs": [
    {
     "data": {
      "text/plain": [
       "{'id': {'uuid': '9cecf498-6eb7-44bd-85fa-a7cd18072021',\n",
       "  'id_type': 'PhysicalBasebandId'},\n",
       " 'custom_id': '',\n",
       " 'frequency': 5000000000.0,\n",
       " 'if_frequency': 250000000.0}"
      ]
     },
     "execution_count": 2,
     "metadata": {},
     "output_type": "execute_result"
    }
   ],
   "source": [
    "bb = PhysicalBaseband(frequency=5e09)\n",
    "bb.model_dump()"
   ]
  },
  {
   "cell_type": "code",
   "execution_count": 3,
   "metadata": {},
   "outputs": [
    {
     "data": {
      "text/plain": [
       "{'id': {'uuid': '9943c16b-d7b1-45d2-a1cb-731b6d1b46e0',\n",
       "  'id_type': 'PhysicalChannelId'},\n",
       " 'custom_id': '',\n",
       " 'baseband': {'uuid': '9cecf498-6eb7-44bd-85fa-a7cd18072021',\n",
       "  'id_type': 'PhysicalBasebandId'},\n",
       " 'sample_time': 1e-09,\n",
       " 'block_size': 1,\n",
       " 'phase_iq_offset': 0.0,\n",
       " 'bias': 1.0,\n",
       " 'acquire_allowed': False,\n",
       " 'min_frequency': 0.0,\n",
       " 'max_frequency': inf}"
      ]
     },
     "execution_count": 3,
     "metadata": {},
     "output_type": "execute_result"
    }
   ],
   "source": [
    "phys_ch = PhysicalChannel(baseband=bb, sample_time=1e-09)\n",
    "phys_ch.model_dump()"
   ]
  },
  {
   "cell_type": "code",
   "execution_count": 4,
   "metadata": {},
   "outputs": [
    {
     "data": {
      "text/plain": [
       "({'id': {'uuid': '008f7af8-537b-4cba-b900-755f1665e95e',\n",
       "   'id_type': 'PulseChannelId',\n",
       "   'channel_type': second_state},\n",
       "  'custom_id': '',\n",
       "  'physical_channel': {'uuid': '9943c16b-d7b1-45d2-a1cb-731b6d1b46e0',\n",
       "   'id_type': 'PhysicalChannelId'},\n",
       "  'frequency': 1000000000.0,\n",
       "  'bias': 0j,\n",
       "  'scale': (1+0j),\n",
       "  'fixed_if': False,\n",
       "  'channel_type': drive,\n",
       "  'auxiliary_qubits': None},\n",
       " {'id': {'uuid': '008f7af8-537b-4cba-b900-755f1665e95e',\n",
       "   'id_type': 'PulseChannelId',\n",
       "   'channel_type': second_state},\n",
       "  'custom_id': '',\n",
       "  'physical_channel': {'uuid': '9943c16b-d7b1-45d2-a1cb-731b6d1b46e0',\n",
       "   'id_type': 'PhysicalChannelId'},\n",
       "  'frequency': 2000000000.0,\n",
       "  'bias': 0j,\n",
       "  'scale': (1+0j),\n",
       "  'fixed_if': False,\n",
       "  'channel_type': second_state,\n",
       "  'auxiliary_qubits': None})"
      ]
     },
     "execution_count": 4,
     "metadata": {},
     "output_type": "execute_result"
    }
   ],
   "source": [
    "pulse_ch1 = PulseChannel(physical_channel=phys_ch, frequency=1e09, channel_type=ChannelType.drive)\n",
    "pulse_ch2 = PulseChannel(physical_channel=phys_ch, frequency=2e09, channel_type=ChannelType.second_state)\n",
    "pulse_ch1.model_dump(), pulse_ch2.model_dump()"
   ]
  },
  {
   "cell_type": "code",
   "execution_count": 5,
   "metadata": {},
   "outputs": [],
   "source": [
    "resonator_data = ResonatorData(pulse_channel_ids=[pulse_ch1.id, pulse_ch2.id], physical_channel_id=phys_ch.id)\n",
    "resonator_data.model_dump()\n",
    "\n",
    "resonator = Resonator(resonator_data)"
   ]
  },
  {
   "cell_type": "code",
   "execution_count": 7,
   "metadata": {},
   "outputs": [],
   "source": [
    "qubit_data = QubitData(pulse_channel_ids=[pulse_ch1.id, pulse_ch2.id], physical_channel_id=phys_ch.id, index=0, measure_device_id=resonator.id)\n",
    "qubit_data.model_dump()\n",
    "\n",
    "qubit = Qubit(qubit_data)"
   ]
  },
  {
   "cell_type": "code",
   "execution_count": null,
   "metadata": {},
   "outputs": [],
   "source": []
  }
 ],
 "metadata": {
  "kernelspec": {
   "display_name": ".venv",
   "language": "python",
   "name": "python3"
  },
  "language_info": {
   "codemirror_mode": {
    "name": "ipython",
    "version": 3
   },
   "file_extension": ".py",
   "mimetype": "text/x-python",
   "name": "python",
   "nbconvert_exporter": "python",
   "pygments_lexer": "ipython3",
   "version": "3.12.6"
  }
 },
 "nbformat": 4,
 "nbformat_minor": 2
}
